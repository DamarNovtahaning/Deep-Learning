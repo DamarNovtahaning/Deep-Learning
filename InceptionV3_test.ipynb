{
  "nbformat": 4,
  "nbformat_minor": 0,
  "metadata": {
    "colab": {
      "name": "InceptionV3_test.ipynb",
      "provenance": []
    },
    "kernelspec": {
      "name": "python3",
      "display_name": "Python 3"
    },
    "language_info": {
      "name": "python"
    },
    "accelerator": "GPU"
  },
  "cells": [
    {
      "cell_type": "code",
      "metadata": {
        "id": "jyhNKJeRKENh"
      },
      "source": [
        "import tensorflow as tf\n",
        "import tensorflow.keras as K\n",
        "import matplotlib.pyplot as plt\n",
        "import numpy as np"
      ],
      "execution_count": 26,
      "outputs": []
    },
    {
      "cell_type": "code",
      "metadata": {
        "id": "Iex6n16KKwSY"
      },
      "source": [
        "(X_train, Y_train), (X_test, Y_test) = K.datasets.cifar10.load_data()"
      ],
      "execution_count": 27,
      "outputs": []
    },
    {
      "cell_type": "code",
      "metadata": {
        "id": "mzbxjzNoLNzp"
      },
      "source": [
        "Y_train.shape"
      ],
      "execution_count": null,
      "outputs": []
    },
    {
      "cell_type": "code",
      "metadata": {
        "id": "SiJQhKKHMdg5"
      },
      "source": [
        "Y_train[0]"
      ],
      "execution_count": null,
      "outputs": []
    },
    {
      "cell_type": "code",
      "metadata": {
        "id": "iI4A5GwCMq85"
      },
      "source": [
        "def preprocessing_data(X, Y):\n",
        "  x = tf.keras.applications.inception_v3.preprocess_input(X)\n",
        "  y = K.utils.to_categorical(Y, 10)\n",
        "  return x, y"
      ],
      "execution_count": 30,
      "outputs": []
    },
    {
      "cell_type": "code",
      "metadata": {
        "id": "1nmGE5gFPJRJ"
      },
      "source": [
        "X_train, Y_train = preprocessing_data(X_train, Y_train)\n",
        "X_test, Y_test = preprocessing_data(X_test, Y_test)"
      ],
      "execution_count": 31,
      "outputs": []
    },
    {
      "cell_type": "code",
      "metadata": {
        "id": "RAeaeO42XzLs"
      },
      "source": [
        "Y_train[0]"
      ],
      "execution_count": null,
      "outputs": []
    },
    {
      "cell_type": "code",
      "metadata": {
        "id": "gmz0JvFwPkLw"
      },
      "source": [
        "base_model = K.applications.InceptionV3(\n",
        "    include_top=False,\n",
        "    weights='imagenet',\n",
        "    input_shape=(299, 299, 3),\n",
        "    classifier_activation='softmax'\n",
        ")"
      ],
      "execution_count": 33,
      "outputs": []
    },
    {
      "cell_type": "code",
      "metadata": {
        "id": "dq8uo02TRgmK"
      },
      "source": [
        "base_model.summary()"
      ],
      "execution_count": null,
      "outputs": []
    },
    {
      "cell_type": "code",
      "metadata": {
        "id": "788bWslmRuMx"
      },
      "source": [
        "inputs = K.Input(shape=(32,32,3))\n",
        "input = K.layers.Lambda(lambda image : tf.image.resize(image, (299, 299)))(inputs)\n",
        "\n",
        "x = base_model(input, training=False)\n",
        "\n",
        "x = K.layers.GlobalAveragePooling2D()(x)\n",
        "\n",
        "x = K.layers.Dense(300, activation='relu')(x)\n",
        "x = K.layers.Dropout(0.3)(x)\n",
        "outputs = K.layers.Dense(10, activation='softmax')(x)\n",
        "\n",
        "model = K.Model(inputs, outputs)"
      ],
      "execution_count": 35,
      "outputs": []
    },
    {
      "cell_type": "code",
      "metadata": {
        "id": "JINKTA4WTW_A"
      },
      "source": [
        "lr_schedule = K.optimizers.schedules.ExponentialDecay(\n",
        "    initial_learning_rate=1e-3,\n",
        "    decay_steps=1000,\n",
        "    decay_rate=0.5)"
      ],
      "execution_count": 36,
      "outputs": []
    },
    {
      "cell_type": "code",
      "metadata": {
        "id": "C4jYY8bQUKCy"
      },
      "source": [
        "base_model.trainable = False\n",
        "optimizer = K.optimizers.SGD(learning_rate=lr_schedule)\n",
        "\n",
        "model.compile(loss=\"categorical_crossentropy\", optimizer=optimizer, metrics=[\"acc\"])"
      ],
      "execution_count": 37,
      "outputs": []
    },
    {
      "cell_type": "code",
      "metadata": {
        "id": "Suidpt1fV65i",
        "colab": {
          "base_uri": "https://localhost:8080/"
        },
        "outputId": "0231d401-6ea8-41fb-a8e1-cbdb4eef1a7d"
      },
      "source": [
        "history = model.fit(X_train, Y_train, \n",
        "                    validation_data=(X_test, Y_test), \n",
        "                    batch_size=128, epochs=10, verbose=1)"
      ],
      "execution_count": 38,
      "outputs": [
        {
          "output_type": "stream",
          "name": "stdout",
          "text": [
            "Epoch 1/10\n",
            "391/391 [==============================] - 452s 1s/step - loss: 2.0112 - acc: 0.3181 - val_loss: 1.6271 - val_acc: 0.6312\n",
            "Epoch 2/10\n",
            "391/391 [==============================] - 433s 1s/step - loss: 1.5231 - acc: 0.5693 - val_loss: 1.3051 - val_acc: 0.7176\n",
            "Epoch 3/10\n",
            "391/391 [==============================] - 433s 1s/step - loss: 1.2901 - acc: 0.6461 - val_loss: 1.1362 - val_acc: 0.7468\n",
            "Epoch 4/10\n",
            "391/391 [==============================] - 433s 1s/step - loss: 1.1666 - acc: 0.6800 - val_loss: 1.0383 - val_acc: 0.7612\n",
            "Epoch 5/10\n",
            "391/391 [==============================] - 433s 1s/step - loss: 1.0905 - acc: 0.6992 - val_loss: 0.9777 - val_acc: 0.7680\n",
            "Epoch 6/10\n",
            "391/391 [==============================] - 433s 1s/step - loss: 1.0406 - acc: 0.7120 - val_loss: 0.9379 - val_acc: 0.7737\n",
            "Epoch 7/10\n",
            "391/391 [==============================] - 433s 1s/step - loss: 1.0055 - acc: 0.7196 - val_loss: 0.9108 - val_acc: 0.7776\n",
            "Epoch 8/10\n",
            "391/391 [==============================] - 433s 1s/step - loss: 0.9809 - acc: 0.7270 - val_loss: 0.8916 - val_acc: 0.7792\n",
            "Epoch 9/10\n",
            "391/391 [==============================] - 443s 1s/step - loss: 0.9676 - acc: 0.7253 - val_loss: 0.8781 - val_acc: 0.7806\n",
            "Epoch 10/10\n",
            "391/391 [==============================] - 433s 1s/step - loss: 0.9570 - acc: 0.7296 - val_loss: 0.8681 - val_acc: 0.7816\n"
          ]
        }
      ]
    },
    {
      "cell_type": "code",
      "metadata": {
        "id": "v-xBrSf7ANob",
        "colab": {
          "base_uri": "https://localhost:8080/"
        },
        "outputId": "fb325849-ebeb-4ef0-8a3e-f59ed0fc1301"
      },
      "source": [
        "results = model.evaluate(X_test, Y_test)\n",
        "print(\"test loss, test acc : \", results)"
      ],
      "execution_count": 39,
      "outputs": [
        {
          "output_type": "stream",
          "name": "stdout",
          "text": [
            "313/313 [==============================] - 84s 267ms/step - loss: 0.8681 - acc: 0.7816\n",
            "test loss, test acc :  [0.868076741695404, 0.7815999984741211]\n"
          ]
        }
      ]
    },
    {
      "cell_type": "code",
      "metadata": {
        "id": "p1tEfY9-Yr5R"
      },
      "source": [
        "from tensorflow.keras.utils import plot_model\n",
        "plot_model(base_model, to_file='model.png')"
      ],
      "execution_count": null,
      "outputs": []
    },
    {
      "cell_type": "code",
      "metadata": {
        "id": "uv44geAGVz8M"
      },
      "source": [
        "for i, layer in enumerate(base_model.layers):\n",
        "  print(i, layer.name)"
      ],
      "execution_count": null,
      "outputs": []
    },
    {
      "cell_type": "code",
      "metadata": {
        "id": "eEc2XMoqWi5-"
      },
      "source": [
        "for layer in base_model.layers[:150]:\n",
        "  layer.trainable=False\n",
        "\n",
        "for layer in base_model.layers[150:]:\n",
        "  layer.trainable=True"
      ],
      "execution_count": 42,
      "outputs": []
    },
    {
      "cell_type": "code",
      "metadata": {
        "id": "82wUdPJam0XN"
      },
      "source": [
        "optimizer=K.optimizers.SGD(1e-3)\n",
        "model.compile(loss=\"categorical_crossentropy\", optimizer=optimizer, metrics=[\"acc\"])"
      ],
      "execution_count": 43,
      "outputs": []
    },
    {
      "cell_type": "code",
      "metadata": {
        "id": "KG6Fq6IMoXg8",
        "colab": {
          "base_uri": "https://localhost:8080/"
        },
        "outputId": "256a96b5-e353-4970-f52e-8160e3adfd12"
      },
      "source": [
        "history = model.fit(X_train, Y_train, \n",
        "                    validation_data=(X_test, Y_test), \n",
        "                    batch_size=128, epochs=10, verbose=1)"
      ],
      "execution_count": 44,
      "outputs": [
        {
          "output_type": "stream",
          "name": "stdout",
          "text": [
            "Epoch 1/10\n",
            "391/391 [==============================] - 439s 1s/step - loss: 0.8978 - acc: 0.7414 - val_loss: 0.7674 - val_acc: 0.7924\n",
            "Epoch 2/10\n",
            "391/391 [==============================] - 433s 1s/step - loss: 0.8131 - acc: 0.7580 - val_loss: 0.7033 - val_acc: 0.7999\n",
            "Epoch 3/10\n",
            "391/391 [==============================] - 432s 1s/step - loss: 0.7545 - acc: 0.7746 - val_loss: 0.6593 - val_acc: 0.8062\n",
            "Epoch 4/10\n",
            "391/391 [==============================] - 433s 1s/step - loss: 0.7138 - acc: 0.7796 - val_loss: 0.6272 - val_acc: 0.8096\n",
            "Epoch 5/10\n",
            "391/391 [==============================] - 433s 1s/step - loss: 0.6788 - acc: 0.7883 - val_loss: 0.6024 - val_acc: 0.8153\n",
            "Epoch 6/10\n",
            "391/391 [==============================] - 443s 1s/step - loss: 0.6564 - acc: 0.7940 - val_loss: 0.5832 - val_acc: 0.8185\n",
            "Epoch 7/10\n",
            "391/391 [==============================] - 436s 1s/step - loss: 0.6355 - acc: 0.7998 - val_loss: 0.5678 - val_acc: 0.8211\n",
            "Epoch 8/10\n",
            "391/391 [==============================] - 437s 1s/step - loss: 0.6183 - acc: 0.8040 - val_loss: 0.5548 - val_acc: 0.8220\n",
            "Epoch 9/10\n",
            "391/391 [==============================] - 437s 1s/step - loss: 0.6030 - acc: 0.8070 - val_loss: 0.5436 - val_acc: 0.8243\n",
            "Epoch 10/10\n",
            "391/391 [==============================] - 437s 1s/step - loss: 0.5887 - acc: 0.8114 - val_loss: 0.5339 - val_acc: 0.8262\n"
          ]
        }
      ]
    },
    {
      "cell_type": "code",
      "metadata": {
        "colab": {
          "base_uri": "https://localhost:8080/"
        },
        "id": "_2-zemPuw5Ou",
        "outputId": "637dea49-b7f4-4eea-a0b3-3a4366f166e6"
      },
      "source": [
        "results = model.evaluate(X_test, Y_test)\n",
        "print(\"test loss, test acc : \", results)"
      ],
      "execution_count": 45,
      "outputs": [
        {
          "output_type": "stream",
          "name": "stdout",
          "text": [
            "313/313 [==============================] - 84s 268ms/step - loss: 0.5339 - acc: 0.8262\n",
            "test loss, test acc :  [0.5338754057884216, 0.826200008392334]\n"
          ]
        }
      ]
    }
  ]
}